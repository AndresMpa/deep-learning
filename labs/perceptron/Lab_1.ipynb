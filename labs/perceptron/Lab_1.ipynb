{
  "nbformat": 4,
  "nbformat_minor": 0,
  "metadata": {
    "colab": {
      "provenance": []
    },
    "kernelspec": {
      "name": "python3",
      "display_name": "Python 3"
    },
    "language_info": {
      "name": "python"
    }
  },
  "cells": [
    {
      "cell_type": "code",
      "execution_count": 56,
      "metadata": {
        "colab": {
          "base_uri": "https://localhost:8080/"
        },
        "id": "XbezpFjqh7xS",
        "outputId": "5caa347f-4884-4472-80a3-bf6e836361ab"
      },
      "outputs": [
        {
          "output_type": "stream",
          "name": "stdout",
          "text": [
            "fatal: destination path 'Database' already exists and is not an empty directory.\n"
          ]
        }
      ],
      "source": [
        "!git clone https://github.com/ChenaoB/Database"
      ]
    },
    {
      "cell_type": "code",
      "source": [
        "import numpy as np\n",
        "import pandas as pd\n",
        "import matplotlib.pyplot as plt"
      ],
      "metadata": {
        "id": "EUUlZo1Oh9U2"
      },
      "execution_count": 57,
      "outputs": []
    },
    {
      "cell_type": "code",
      "source": [
        "df = pd.read_csv(\"/content/Database/DataLeastSquareClasificationtTwoClassOutliers.csv\")\n",
        "\n",
        "Train = df.sample(frac = 0.8, random_state=39)\n",
        "Test = df.drop(Train.index)\n",
        "\n",
        "\"\"\"\n",
        "Tengo 2 entradas: X1 X2\n",
        "Tengo 2 tags: 1, -1\n",
        "\"\"\"\n",
        "print(Train)"
      ],
      "metadata": {
        "colab": {
          "base_uri": "https://localhost:8080/"
        },
        "id": "JM8EvtFOiSGF",
        "outputId": "1f621c9d-3576-4b26-be1f-6cda5c77bbcb"
      },
      "execution_count": 58,
      "outputs": [
        {
          "output_type": "stream",
          "name": "stdout",
          "text": [
            "           X1        X2  Y\n",
            "37   1.503395  1.563814 -1\n",
            "26  -0.587718 -0.803617 -1\n",
            "42   0.002065 -0.724401 -1\n",
            "93  -0.881775  0.396641  1\n",
            "102  7.492510 -7.345252 -1\n",
            "..        ...       ... ..\n",
            "97  -0.021437  1.472850  1\n",
            "100  7.195957 -7.052825 -1\n",
            "86  -2.073889 -0.909901  1\n",
            "84   0.215368  2.120182  1\n",
            "36  -0.291662 -0.666293 -1\n",
            "\n",
            "[88 rows x 3 columns]\n"
          ]
        }
      ]
    },
    {
      "cell_type": "code",
      "source": [
        "# Construcción de matrices\n",
        "\n",
        "# Esto es más bien opcional\n",
        "YTrain = np.zeros((Train.shape[0], 1))\n",
        "YTest = np.zeros((Test.shape[0], 1))\n",
        "\n",
        "YTrain = Train[\"Y\"].values\n",
        "YTest = Test[\"Y\"].values\n",
        "\n",
        "XTrain = np.zeros((Train.shape[0], 2 + 1))\n",
        "XTest = np.zeros((Test.shape[0], 2 + 1))\n",
        "\n",
        "XTrain[:, 0:2] = Train[[\"X1\", \"X2\"]].values\n",
        "XTrain[:, 2] = np.ones(Train.shape[0])\n",
        "\n",
        "XTest[:, 0:2] = Test[[\"X1\", \"X2\"]].values\n",
        "XTest[:, 2] = np.ones(Test.shape[0])"
      ],
      "metadata": {
        "id": "kKPSjUuamgks"
      },
      "execution_count": 59,
      "outputs": []
    },
    {
      "cell_type": "code",
      "source": [
        "# Modelo del perceptron\n",
        "\n",
        "\"\"\"\n",
        "Entradas\n",
        " - X\n",
        " - y\n",
        " - α (Learning rate)\n",
        " - w (Pesos iniciales)\n",
        "\n",
        "Nota: El encontrar los pesos inicales es un problema que atañe al ML, por\n",
        "extensión al DL\n",
        "\"\"\"\n",
        "\n",
        "alpha = 0.8\n",
        "w = np.random.rand(3)\n",
        "print(f\"Pesos iniciales (w): {w}\")\n",
        "\n",
        "iteration = 10\n",
        "\n",
        "for iter in range(iteration):\n",
        "  for item in range(Train.shape[0]):\n",
        "    tag = np.sign(np.dot(w, np.transpose(XTrain[item, :])))\n",
        "    if (YTrain[item] == 1 and tag != YTrain[item]):\n",
        "      w = w + alpha * np.transpose(XTrain[item, :])\n",
        "    elif (YTrain[item] == -1 and tag != YTrain[item]):\n",
        "      w = w - alpha * np.transpose(XTrain[item, :])\n",
        "    else:\n",
        "      w = w # Esto no es necesario, pero por ser rigurosos con el algoritmo :p"
      ],
      "metadata": {
        "colab": {
          "base_uri": "https://localhost:8080/"
        },
        "id": "xo3cWhbitOpl",
        "outputId": "0a2dac35-6757-45d1-faaf-51199715a456"
      },
      "execution_count": 60,
      "outputs": [
        {
          "output_type": "stream",
          "name": "stdout",
          "text": [
            "Pesos iniciales (w): [0.52650524 0.93095031 0.09447344]\n"
          ]
        }
      ]
    },
    {
      "cell_type": "code",
      "source": [
        "# Curva de decisión\n",
        "\n",
        "X1 = np.arange(-3, 5, 3)\n",
        "X2 = -(w[0] * X1 + w[2]) / w[1]"
      ],
      "metadata": {
        "id": "YQ5PfodoxdRf"
      },
      "execution_count": 61,
      "outputs": []
    },
    {
      "cell_type": "code",
      "source": [
        "# Graficando datos\n",
        "\n",
        "IndexClass1 = np.where(YTrain==1)\n",
        "IndexClass2 = np.where(YTrain==-1)\n",
        "\n",
        "# print(f\"Index cuya clase es 1 \\n{IndexClass1}\")\n",
        "# print(f\"Index cuya clase es 2 \\n{IndexClass2}\")\n",
        "\n",
        "Xclass1 = Train[[\"X1\", \"X2\"]].iloc[IndexClass1]\n",
        "Xclass2 = Train[[\"X1\", \"X2\"]].iloc[IndexClass2]\n",
        "\n",
        "# print(f\"Atributos etiquetados como clase 1 \\n{Xclass1}\")\n",
        "# print(f\"Atributos etiquetados como clase 2 \\n{Xclass2}\")\n",
        "\n",
        "plt.plot(Xclass1[\"X1\"], Xclass1[\"X2\"], \".r\", label=\"C1\")\n",
        "plt.plot(Xclass2[\"X1\"], Xclass2[\"X2\"], \".b\", label=\"C2\")\n",
        "plt.plot(X1, X2, label = \"Curva de decisión\")\n",
        "plt.xlabel(\"X2\")\n",
        "plt.xlabel(\"X1\")\n",
        "plt.legend()"
      ],
      "metadata": {
        "colab": {
          "base_uri": "https://localhost:8080/",
          "height": 466
        },
        "id": "dm7oqcGwkhVk",
        "outputId": "922c5b07-59d7-4053-b874-d36a8981109e"
      },
      "execution_count": 62,
      "outputs": [
        {
          "output_type": "execute_result",
          "data": {
            "text/plain": [
              "<matplotlib.legend.Legend at 0x7b59a5483910>"
            ]
          },
          "metadata": {},
          "execution_count": 62
        },
        {
          "output_type": "display_data",
          "data": {
            "text/plain": [
              "<Figure size 640x480 with 1 Axes>"
            ],
            "image/png": "[encoded data removed]"
          },
          "metadata": {}
        }
      ]
    }
  ]
}