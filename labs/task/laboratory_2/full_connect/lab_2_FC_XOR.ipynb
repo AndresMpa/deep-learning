{
  "nbformat": 4,
  "nbformat_minor": 0,
  "metadata": {
    "colab": {
      "provenance": []
    },
    "kernelspec": {
      "name": "python3",
      "display_name": "Python 3"
    },
    "language_info": {
      "name": "python"
    }
  },
  "cells": [
    {
      "cell_type": "code",
      "execution_count": 910,
      "metadata": {
        "id": "ixw7MOzj7b6d"
      },
      "outputs": [],
      "source": [
        "'''\n",
        "Packages necesarios\n",
        "'''\n",
        "import numpy as np\n",
        "import matplotlib.pylab as plt"
      ]
    },
    {
      "cell_type": "markdown",
      "source": [
        "# Generación de los datos"
      ],
      "metadata": {
        "id": "bSw6yq21MVV4"
      }
    },
    {
      "cell_type": "code",
      "source": [
        "'''\n",
        "Se genera el dataset\n",
        "'''\n",
        "X = np.array([[0, 0], [0, 1], [1, 0], [0, 0]])\n",
        "Y = np.array([[0], [1], [1], [0]])"
      ],
      "metadata": {
        "id": "jlAk1XO_8Vha"
      },
      "execution_count": 911,
      "outputs": []
    },
    {
      "cell_type": "markdown",
      "source": [
        "# Implementación de la arquitectura de una red FC"
      ],
      "metadata": {
        "id": "HJK1HUeOMcYb"
      }
    },
    {
      "cell_type": "code",
      "source": [
        "'''\n",
        "Hiper-parametros\n",
        "'''\n",
        "input = X.shape[1]    # Número de entradas\n",
        "data = X.shape[0]     # Número de datos\n",
        "output = Y.shape[1]   # Número de salidas\n",
        "learning_rate = 0.3   # Learning rate\n",
        "iterations = 3000     # Número de iteraciones\n",
        "layers = 3            # Número de capas"
      ],
      "metadata": {
        "id": "ZiUme8n-9_vh"
      },
      "execution_count": 912,
      "outputs": []
    },
    {
      "cell_type": "code",
      "source": [
        "'''\n",
        "Analiticas\n",
        "'''\n",
        "lost_evolution = []"
      ],
      "metadata": {
        "id": "RU7ix6ppHl0P"
      },
      "execution_count": 913,
      "outputs": []
    },
    {
      "cell_type": "markdown",
      "source": [
        "# Arquitectura de la red"
      ],
      "metadata": {
        "id": "RbH67rwHC2rK"
      }
    },
    {
      "cell_type": "code",
      "source": [
        "'''\n",
        "0: Clasificación usando BCE\n",
        "1: Regresión usando LSE\n",
        "'''\n",
        "net_type = 0"
      ],
      "metadata": {
        "id": "EDkkslhVC5lS"
      },
      "execution_count": 914,
      "outputs": []
    },
    {
      "cell_type": "code",
      "source": [
        "'''\n",
        "Entradas:         2 neuronas\n",
        "Capa de entrada:  2 neuronas\n",
        "Capa oculta:      2 neuronas\n",
        "Capa de salida:   1 neurona\n",
        "'''\n",
        "net_architecture = [input, 2, 2, output]"
      ],
      "metadata": {
        "id": "iwyGQISJEoFg"
      },
      "execution_count": 915,
      "outputs": []
    },
    {
      "cell_type": "code",
      "source": [
        "'''\n",
        "Función de activación para cada capa\n",
        "'''\n",
        "\n",
        "'''\n",
        "2: Función de activación tanh\n",
        "1: Función de activación sigmoidal\n",
        "0: Función de activación lineal\n",
        "'''\n",
        "net_function = [2, 2, 1]"
      ],
      "metadata": {
        "id": "1h5eJL8uErlf"
      },
      "execution_count": 916,
      "outputs": []
    },
    {
      "cell_type": "code",
      "source": [
        "'''\n",
        "Inicialización de parametros\n",
        "'''\n",
        "bias = []             # Matriz de bias\n",
        "weight = []           # Matriz de pesos\n",
        "bias_gradient = []    # Matriz de gradientes de los bias\n",
        "weight_gradient = []  # Matriz de gradientes de los pesos"
      ],
      "metadata": {
        "id": "d88s40vFDdHF"
      },
      "execution_count": 917,
      "outputs": []
    },
    {
      "cell_type": "code",
      "source": [
        "for i in range(layers):   # Para recorrer cada capa de la red\n",
        "  matrix_layer = np.random.rand(net_architecture[i + 1], net_architecture[i])\n",
        "  weight.append(matrix_layer)\n",
        "\n",
        "  matrix_gradient = np.zeros([net_architecture[i + 1], net_architecture[i]])\n",
        "  weight_gradient.append(matrix_gradient)\n",
        "\n",
        "  bias_matrix = np.random.rand(net_architecture[i + 1], 1)\n",
        "  bias.append(bias_matrix)\n",
        "\n",
        "  gradient_vector = np.zeros([net_architecture[i + 1], 1])\n",
        "  bias_gradient.append(gradient_vector)\n",
        "\n",
        "bias = np.array(bias, dtype=object)\n",
        "weight = np.array(weight, dtype=object)\n",
        "bias_gradient = np.array(bias_gradient, dtype=object)\n",
        "weight_gradient = np.array(weight_gradient, dtype=object)\n",
        "\n",
        "print(f\"Matriz de bias:\\n {bias}\")\n",
        "print(f\"Matriz de pesos (weight):\\n {weight}\")\n",
        "print(f\"Matriz de gradientes de los bias:\\n {bias_gradient}\")\n",
        "print(f\"Matriz de gradientes de los pesos:\\n {weight_gradient}\")"
      ],
      "metadata": {
        "colab": {
          "base_uri": "https://localhost:8080/"
        },
        "id": "ysYnhCJGO6Ii",
        "outputId": "45efc80e-d302-48e6-a891-695e92af3d28"
      },
      "execution_count": 918,
      "outputs": [
        {
          "output_type": "stream",
          "name": "stdout",
          "text": [
            "Matriz de bias:\n",
            " [array([[0.15183171],\n",
            "        [0.58850434]]) array([[0.83909086],\n",
            "                              [0.52757301]]) array([[0.88795829]])]\n",
            "Matriz de pesos (weight):\n",
            " [array([[0.27922124, 0.47365289],\n",
            "        [0.63432933, 0.9007127 ]]) array([[0.78169869, 0.8811043 ],\n",
            "                                          [0.46279486, 0.15406477]])\n",
            " array([[0.23607535, 0.03134867]])]\n",
            "Matriz de gradientes de los bias:\n",
            " [array([[0.],\n",
            "        [0.]]) array([[0.],\n",
            "                      [0.]]) array([[0.]])]\n",
            "Matriz de gradientes de los pesos:\n",
            " [array([[0., 0.],\n",
            "        [0., 0.]]) array([[0., 0.],\n",
            "                          [0., 0.]]) array([[0., 0.]])]\n"
          ]
        }
      ]
    },
    {
      "cell_type": "markdown",
      "source": [
        "# Utilidades generales para la red neuronal"
      ],
      "metadata": {
        "id": "RhGxXexgMyx0"
      }
    },
    {
      "cell_type": "code",
      "source": [
        "'''\n",
        "Funciones de utilidad\n",
        "'''\n",
        "def get_net_type(net_type):\n",
        "  if (net_type == 0):\n",
        "    return \"BCE\"\n",
        "  elif (net_type == 1):\n",
        "    return \"LSE\"\n",
        "\n",
        "def matrix_zeros(matrix, num_layer):\n",
        "  for index in range(num_layer):\n",
        "    matrix[index] = np.zeros((matrix[index].shape[0], matrix[index].shape[1]))\n",
        "\n",
        "  return matrix\n",
        "\n",
        "def extract_data(size, layer):\n",
        "  X1 = np.zeros((1, size[0]))\n",
        "  Y1 = np.zeros((1, size[1]))\n",
        "  X1[0, :] = X[layer, :]\n",
        "  Y1[0, :] = Y[layer, :]\n",
        "  return [X1, Y1]\n",
        "\n",
        "def activation_function(zp, act_fun):\n",
        "  if(act_fun == 0):                       # Función de activación: lineal\n",
        "    zp_activated = zp\n",
        "  elif(act_fun == 1):                     # Función de activación: sigmoidal\n",
        "    zp_activated = 1 / (1 + np.exp(-zp))\n",
        "  else:                                   # Función de activación: tanh\n",
        "    zp_activated = np.tanh(zp)\n",
        "  return zp_activated\n",
        "\n",
        "def prediction(w_in, bias_in, x_in, nl_in, l_in):\n",
        "  transpose_matrix = np.vstack((np.transpose(x_in), np.ones((1, 1))))\n",
        "  activated = []\n",
        "\n",
        "  for layer in range(l_in):\n",
        "    params_matrix = np.hstack((w_in[layer], bias_in[layer]))\n",
        "    # Capa de entrada\n",
        "    if (layer + 1 == 1):\n",
        "      # Función de activación y actualización de pesos\n",
        "      zp = np.dot(params_matrix, transpose_matrix)\n",
        "    # Capas ocultas o de salida\n",
        "    else:\n",
        "      # Vector de la capa anterior\n",
        "      activation_vector = np.vstack((activated[layer-1], np.ones((1, 1))))\n",
        "      # Función de activación y actualización de pesos\n",
        "      zp = np.dot(params_matrix, activation_vector)\n",
        "\n",
        "    activated.append(activation_function(zp, nl_in[layer]))\n",
        "\n",
        "  return activated\n",
        "\n",
        "# Función de activación en la capa de salida\n",
        "def delta_output(Nl_delta, y_delta, output_delta):\n",
        "  if(y_delta[0, 0]):\n",
        "    lost = -1 / output_delta\n",
        "  else:\n",
        "    lost = 1 / (1 - output_delta)\n",
        "\n",
        "  if(Nl_delta == 0):\n",
        "    # Lineal\n",
        "    delta = lost\n",
        "  elif(Nl_delta == 1):\n",
        "    # Sigmoidal\n",
        "    delta = lost * (output_delta * (1 - output_delta))\n",
        "  elif (Nl_delta == 2):\n",
        "    # Tangente hiperbolico\n",
        "    delta = lost * (1 - output_delta ** 2)\n",
        "\n",
        "  return delta\n",
        "\n",
        "def delta_layer(prev_delta, w_delta, Zl_delta, Nl_delta):\n",
        "  delta_transpose = np.dot(np.transpose(w_delta), prev_delta)\n",
        "\n",
        "  if(Nl_delta == 0):\n",
        "    # Lineal\n",
        "    delta = delta_transpose\n",
        "  elif(Nl_delta == 1):\n",
        "    # Sigmoidal\n",
        "    delta = delta_transpose * (Zl_delta * (1 - Zl_delta))\n",
        "  elif (Nl_delta == 2):\n",
        "    # Tangente hiperbolico\n",
        "    delta = delta_transpose * (1 - Zl_delta ** 2)\n",
        "\n",
        "  return delta"
      ],
      "metadata": {
        "id": "obN8IaGkBphi"
      },
      "execution_count": 919,
      "outputs": []
    },
    {
      "cell_type": "markdown",
      "source": [
        "# Desarrolle una función que permita propagar cada dato (Backpropagation)"
      ],
      "metadata": {
        "id": "ZDDypG-iM5ID"
      }
    },
    {
      "cell_type": "code",
      "source": [
        "for i in range(iterations):\n",
        "  for j in range(data):\n",
        "    X1, Y1 = extract_data([input, output], j)\n",
        "    current_prediction = prediction(weight, bias, X1, net_function, layers)\n",
        "    error_track = []\n",
        "\n",
        "    '''\n",
        "    Backpropagation\n",
        "    '''\n",
        "    for h in range(layers - 1, -1, -1):\n",
        "      # Capa de salida\n",
        "      if (h + 1 == layers):\n",
        "        error = delta_output(net_function[h], Y1, current_prediction[h])\n",
        "      # Las demás capas\n",
        "      else:\n",
        "        error = delta_layer(error, weight[h + 1], current_prediction[h], net_function[h])\n",
        "      error_track.append(error)\n",
        "    error_track.reverse()\n",
        "    error_track = np.array(error_track, dtype=object)\n",
        "\n",
        "    # Gradientes de los bias y los pesos\n",
        "    for t in range(layers):\n",
        "      bias_gradient[t] = bias_gradient[t] + error_track[t]\n",
        "      # Capa de entrada\n",
        "      if(t == 0):\n",
        "        weight_gradient[t] = weight_gradient[t] + X1 * error_track[t]\n",
        "      # Capa de salida y capas ocultas\n",
        "      else:\n",
        "        weight_gradient[t] = weight_gradient[t] + np.transpose(current_prediction[t - 1]) * error_track[t]\n",
        "\n",
        "  '''\n",
        "  Actualización\n",
        "  '''\n",
        "  for k in range(layers):\n",
        "    bias[k] = bias[k] - (learning_rate / data) * (bias_gradient[k])\n",
        "    weight[k] = weight[k] - (learning_rate / data) * weight_gradient[k]\n",
        "  prediction_vector = []\n",
        "\n",
        "  '''\n",
        "  Función de perdida\n",
        "  '''\n",
        "  for a in range(data):\n",
        "    evolution = 0\n",
        "    X1, Y1 = extract_data([input, output], a)\n",
        "    prediction_vector = prediction(weight, bias, X1, net_function, layers)\n",
        "\n",
        "    if (net_type == 0):\n",
        "      # Implementación de la fusión de perdida (BCE)\n",
        "      if(Y1[0, 0]):\n",
        "        evolution -= np.log(prediction_vector[layers - 1])\n",
        "      else:\n",
        "        evolution -= np.log(1 - prediction_vector[layers - 1])\n",
        "    elif (net_type == 1):\n",
        "      # Implementación de la fusión de perdida (LSE)\n",
        "      evolution += (prediction_vector[layers - 1] - Y1[0, 0]) ** 2\n",
        "\n",
        "  lost_evolution.append(evolution)\n",
        "\n",
        "  '''\n",
        "  Reincio del bucle - Limpieza de matrices\n",
        "  '''\n",
        "  weight_gradient = matrix_zeros(weight_gradient, layers)\n",
        "  bias_gradient = matrix_zeros(bias_gradient, layers)"
      ],
      "metadata": {
        "id": "WB4cJo6pNHzK"
      },
      "execution_count": 920,
      "outputs": []
    },
    {
      "cell_type": "code",
      "source": [
        "'''\n",
        "Verificación de los resultados\n",
        "'''\n",
        "for j in range(data):\n",
        "  X1, Y1 = extract_data([input, output], j)\n",
        "  current_prediction = prediction(weight, bias, X1, net_function, layers)\n",
        "  print(X1, Y1, current_prediction[layers - 1])"
      ],
      "metadata": {
        "colab": {
          "base_uri": "https://localhost:8080/"
        },
        "id": "Q0bwKFo_ECXv",
        "outputId": "98d73f72-5f03-4bb2-d754-3e39a53c3cf6"
      },
      "execution_count": 921,
      "outputs": [
        {
          "output_type": "stream",
          "name": "stdout",
          "text": [
            "[[0. 0.]] [[0.]] [[0.00057833]]\n",
            "[[0. 1.]] [[1.]] [[0.99934083]]\n",
            "[[1. 0.]] [[1.]] [[0.99932334]]\n",
            "[[0. 0.]] [[0.]] [[0.00057833]]\n"
          ]
        }
      ]
    },
    {
      "cell_type": "markdown",
      "source": [
        "# Analiticas del rendimiento"
      ],
      "metadata": {
        "id": "CY_RX_piD3_R"
      }
    },
    {
      "cell_type": "code",
      "source": [
        "'''\n",
        "Analiticas de rendimiento\n",
        "'''\n",
        "epochs = np.arange(1, iterations + 1, 1)\n",
        "loss = np.concatenate(lost_evolution)"
      ],
      "metadata": {
        "id": "hMZzzzNqD0Nu"
      },
      "execution_count": 922,
      "outputs": []
    },
    {
      "cell_type": "code",
      "source": [
        "'''\n",
        "Graficas sobre el rendimiento\n",
        "'''\n",
        "plt.plot(epochs, loss, '.m')\n",
        "plt.ylabel(f\"Perdida ({get_net_type(net_type)})\")\n",
        "plt.xlabel(f\"{iterations} epocas\")\n",
        "plt.title(\"Perdida atraves de las epocas\")\n",
        "plt.show()"
      ],
      "metadata": {
        "colab": {
          "base_uri": "https://localhost:8080/",
          "height": 472
        },
        "id": "HyLwM2ko_yBv",
        "outputId": "6eba5789-86f7-45dd-a502-2c854cf5b850"
      },
      "execution_count": 923,
      "outputs": [
        {
          "output_type": "display_data",
          "data": {
            "text/plain": [
              "<Figure size 640x480 with 1 Axes>"
            ],
            "image/png": "[encoded data removed]"
          },
          "metadata": {}
        }
      ]
    },
    {
      "cell_type": "code",
      "source": [
        "'''\n",
        "Extrayendo caracteristicas para la matriz de confusión\n",
        "'''\n",
        "unique_tags = np.unique(np.concatenate(Y))\n",
        "confusion_matrix = np.zeros((unique_tags.shape[0], unique_tags.shape[0]))\n",
        "\n",
        "for j in range(data):\n",
        "  X1, Y1 = extract_data([input, output], j)\n",
        "  current_prediction = prediction(weight, bias, X1, net_function, layers)\n",
        "  predicted_tag = current_prediction[layers - 1][0][0]\n",
        "  rounded_tag = np.round(predicted_tag)\n",
        "\n",
        "  '''\n",
        "  Para la construcción de la matriz de confusión (El grafico)\n",
        "  '''\n",
        "  for tag in range(unique_tags.shape[0]):\n",
        "    if (rounded_tag == unique_tags[tag]):\n",
        "      if (Y1[0][0] == rounded_tag):\n",
        "        confusion_matrix[tag][tag] += 1\n",
        "      else:\n",
        "        for fix in range(unique_tags.shape[0]):\n",
        "          confusion_matrix[tag][fix] += 1\n",
        "        confusion_matrix[tag][tag] -= 1\n",
        "\n",
        "# Mostrando la matriz en números\n",
        "print(confusion_matrix)"
      ],
      "metadata": {
        "colab": {
          "base_uri": "https://localhost:8080/"
        },
        "id": "0aMyU2BqTrZ1",
        "outputId": "f9669043-8ceb-44c0-81e7-f8d05a7dc144"
      },
      "execution_count": 924,
      "outputs": [
        {
          "output_type": "stream",
          "name": "stdout",
          "text": [
            "[[2. 0.]\n",
            " [0. 2.]]\n"
          ]
        }
      ]
    },
    {
      "cell_type": "code",
      "source": [
        "'''\n",
        "Otras analisticas extraidas de la matriz de confusión\n",
        "'''\n",
        "\n",
        "TP = confusion_matrix[1][1] # True Positive\n",
        "TN = confusion_matrix[0][0] # True Negative\n",
        "FP = confusion_matrix[0][1] # False Positive\n",
        "FN = confusion_matrix[1][0] # False Negative\n",
        "\n",
        "precision = TP / (TP + FP)\n",
        "sensitivity = TP / (TP + FN)\n",
        "specificity = TN / (TN + FP)\n",
        "accuracy = (TP + TN) / (TP + TN + FP + FN)\n",
        "f1_score = 2 * (precision * sensitivity) / (precision + sensitivity)\n",
        "\n",
        "print(f\"Precisión: {precision}\")\n",
        "print(f\"Sensibilidad: {sensitivity}\")\n",
        "print(f\"Especificidad: {specificity}\")\n",
        "print(f\"Exactitud: {accuracy}\")\n",
        "print(f\"F1 Score: {f1_score}\")"
      ],
      "metadata": {
        "colab": {
          "base_uri": "https://localhost:8080/"
        },
        "id": "4hSMYsKX-TDD",
        "outputId": "c041f6f4-560b-4178-861f-49c32b690283"
      },
      "execution_count": 925,
      "outputs": [
        {
          "output_type": "stream",
          "name": "stdout",
          "text": [
            "Precisión: 1.0\n",
            "Sensibilidad: 1.0\n",
            "Especificidad: 1.0\n",
            "Exactitud: 1.0\n",
            "F1 Score: 1.0\n"
          ]
        }
      ]
    },
    {
      "cell_type": "code",
      "source": [
        "actual_label = [\"AN\", \"AP\"]\n",
        "predicted_label = [\"PN\", \"PP\"]\n",
        "\n",
        "fig, ax = plt.subplots()\n",
        "im = ax.imshow(confusion_matrix, cmap=plt.colormaps[\"flag\"].resampled(7))\n",
        "\n",
        "# Para agregar los labels\n",
        "ax.set_xticks(np.arange(len(predicted_label)), labels=predicted_label)\n",
        "ax.set_yticks(np.arange(len(actual_label)), labels=actual_label)\n",
        "\n",
        "\n",
        "# Para centrar los textos\n",
        "plt.setp(ax.get_xticklabels(), rotation=45, ha=\"right\", rotation_mode=\"anchor\")\n",
        "\n",
        "# Para poner los números a cada recuadro.\n",
        "for i in range(len(predicted_label)):\n",
        "    for j in range(len(actual_label)):\n",
        "        text = ax.text(j, i, confusion_matrix[i, j], ha=\"center\", va=\"center\", color=\"w\")\n",
        "\n",
        "ax.set_title(\"Matriz de confusión\")\n",
        "fig.tight_layout()\n",
        "plt.show()"
      ],
      "metadata": {
        "colab": {
          "base_uri": "https://localhost:8080/",
          "height": 487
        },
        "id": "A2vjU6ItPXXP",
        "outputId": "317e20ae-374f-41a0-bc5d-f1af9783b3c5"
      },
      "execution_count": 926,
      "outputs": [
        {
          "output_type": "display_data",
          "data": {
            "text/plain": [
              "<Figure size 640x480 with 1 Axes>"
            ],
            "image/png": "[encoded data removed]"
          },
          "metadata": {}
        }
      ]
    },
    {
      "cell_type": "code",
      "source": [
        "expected = Y.flatten()\n",
        "prediction_to_analize = []\n",
        "\n",
        "for j in range(data):\n",
        "  X1, Y1 = extract_data([input, output], j)\n",
        "  current_prediction = prediction(weight, bias, X1, net_function, layers)\n",
        "  prediction_to_analize.append(current_prediction[layers - 1].flatten()[0])"
      ],
      "metadata": {
        "id": "WHr4-I4tQNhT"
      },
      "execution_count": 927,
      "outputs": []
    },
    {
      "cell_type": "code",
      "source": [
        "# Se define un vector de umbrales\n",
        "thresholds = np.arange(0, 1.1, 0.1)\n",
        "\n",
        "'''\n",
        "Calculo de FPR y TPR como rates\n",
        "'''\n",
        "tpr = []\n",
        "fpr = []\n",
        "for threshold in thresholds:\n",
        "    tpr.append(np.sum(expected & (prediction_to_analize >= threshold)) / np.sum(expected))\n",
        "    fpr.append(np.sum((expected == 0) & (prediction_to_analize >= threshold)) / np.sum(expected == 0))\n",
        "\n",
        "auc = np.trapz(tpr, fpr)\n",
        "\n",
        "plt.plot(fpr, tpr, \"-m\", label=f\"ROC de {auc} (AUC)\")\n",
        "plt.plot(thresholds, thresholds, \"--b\", label=\"Peor curva\")\n",
        "plt.xlabel('Tasa de falsos positivos (FPR)')\n",
        "plt.ylabel('Tasa de verdaderos positivos (TPR)')\n",
        "plt.title(\"Curva ROC\")\n",
        "plt.show()"
      ],
      "metadata": {
        "colab": {
          "base_uri": "https://localhost:8080/",
          "height": 472
        },
        "id": "7GJxk7F0PPQF",
        "outputId": "a98a9283-37fc-4743-9581-8bf12e5f2e54"
      },
      "execution_count": 945,
      "outputs": [
        {
          "output_type": "display_data",
          "data": {
            "text/plain": [
              "<Figure size 640x480 with 1 Axes>"
            ],
            "image/png": "[encoded data removed]"
          },
          "metadata": {}
        }
      ]
    }
  ]
}