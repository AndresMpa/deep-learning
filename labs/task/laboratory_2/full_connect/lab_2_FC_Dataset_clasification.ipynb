{
  "cells": [
    {
      "cell_type": "code",
      "source": [
        "!git clone https://github.com/ChenaoB/Database"
      ],
      "metadata": {
        "colab": {
          "base_uri": "https://localhost:8080/"
        },
        "id": "HpkHegvItcam",
        "outputId": "7c6b56dd-3a24-41b7-fb70-3d5b9ca76c2a"
      },
      "execution_count": 232,
      "outputs": [
        {
          "output_type": "stream",
          "name": "stdout",
          "text": [
            "fatal: destination path 'Database' already exists and is not an empty directory.\n"
          ]
        }
      ]
    },
    {
      "cell_type": "code",
      "execution_count": 233,
      "metadata": {
        "id": "ixw7MOzj7b6d"
      },
      "outputs": [],
      "source": [
        "'''\n",
        "Packages necesarios\n",
        "'''\n",
        "import numpy as np\n",
        "import pandas as pd\n",
        "import matplotlib.pyplot as plt"
      ]
    },
    {
      "cell_type": "markdown",
      "metadata": {
        "id": "bSw6yq21MVV4"
      },
      "source": [
        "# Generación de los datos"
      ]
    },
    {
      "cell_type": "code",
      "execution_count": 234,
      "metadata": {
        "id": "jlAk1XO_8Vha"
      },
      "outputs": [],
      "source": [
        "\"\"\"\n",
        "Se transfiere la data a pandas\n",
        "\"\"\"\n",
        "df = pd.read_csv(\"/content/Database/DataLeastSquareClasificationtTwoClass.csv\")"
      ]
    },
    {
      "cell_type": "code",
      "source": [
        "\"\"\"\n",
        "Se divide el dataset en 75 para entrenamiento y el restante para test\n",
        "\"\"\"\n",
        "train_set = df.sample(frac = 0.75, random_state=39)\n",
        "test_set = df.drop(train_set.index)\n",
        "\n",
        "\"\"\"\n",
        "Tengo 2 entradas: X1 X2 (Por tanto es un problema biclase)\n",
        "Tengo 2 tags: 1, -1 (Esto sería 1 salida)\n",
        "\"\"\"\n",
        "print(train_set[:5])\n",
        "print(test_set[:5])\n",
        "\n",
        "print(train_set.shape)"
      ],
      "metadata": {
        "colab": {
          "base_uri": "https://localhost:8080/"
        },
        "id": "E8CN90KEuKKi",
        "outputId": "7236a11b-791b-4d04-8416-7694955d5578"
      },
      "execution_count": 235,
      "outputs": [
        {
          "output_type": "stream",
          "name": "stdout",
          "text": [
            "          X1        X2  Y\n",
            "22  2.658757  2.761905 -1\n",
            "53 -0.977697  0.554048  1\n",
            "84  0.215368  2.120182  1\n",
            "57  0.604397  1.800420  1\n",
            "87 -0.434967  1.226852  1\n",
            "          X1        X2  Y\n",
            "4   2.806944  2.885193 -1\n",
            "9   0.476725 -0.366186 -1\n",
            "12  2.830055  2.794111 -1\n",
            "13  0.289153 -0.591639 -1\n",
            "14  2.155935  1.772786 -1\n",
            "(75, 3)\n"
          ]
        }
      ]
    },
    {
      "cell_type": "code",
      "source": [
        "'''\n",
        "Creación de matrices\n",
        "'''\n",
        "\n",
        "# X para entrenamiento\n",
        "x_train = np.zeros((train_set.shape[0], 2))\n",
        "x_train[:, :] = train_set[['X1', 'X2']].values\n",
        "\n",
        "# Y (Tags) para entrenamiento\n",
        "y_train = np.zeros((train_set.shape[0], 1))\n",
        "y_train[:, 0] = train_set['Y']\n",
        "\n",
        "# Matrices para test\n",
        "x_test = np.zeros((test_set.shape[0], 2))\n",
        "y_test = np.zeros((test_set.shape[0], 1))\n",
        "\n",
        "'''\n",
        "Llenado de matrices\n",
        "'''\n",
        "x_test[:, :] = test_set[['X1', 'X2']].values\n",
        "y_test[:, 0] = test_set['Y']\n",
        "\n",
        "train_class_index = np.where(train_set['Y'] == -1)\n",
        "y_train[train_class_index, 0] = 0\n",
        "\n",
        "test_class_index = np.where(test_set['Y'] == -1)\n",
        "y_test[test_class_index, 0] = 0"
      ],
      "metadata": {
        "id": "scC60ds_8MPL"
      },
      "execution_count": 236,
      "outputs": []
    },
    {
      "cell_type": "code",
      "source": [
        "# Se muestran los primeros 5 datos para verificación\n",
        "\n",
        "print(f\"Matriz de datos de entrenamiento: \\n{[[*data] for data in x_train[:5]]}\")\n",
        "print(f\"Matriz de etiquetas de entrenamiento: \\n{y_train[:5]}\", end=\"\\n\\n\")\n",
        "\n",
        "print(f\"Matriz de datos de test: \\n{[[*data] for data in x_test[:5]]}\")\n",
        "print(f\"Matriz de etiquetas de test: \\n{y_test[:5]}\")"
      ],
      "metadata": {
        "colab": {
          "base_uri": "https://localhost:8080/"
        },
        "id": "CJkGNMkoQa0p",
        "outputId": "5af3f8b4-891c-4e26-b0d4-8fe49a05e797"
      },
      "execution_count": 237,
      "outputs": [
        {
          "output_type": "stream",
          "name": "stdout",
          "text": [
            "Matriz de datos de entrenamiento: \n",
            "[[2.658756772, 2.7619046], [-0.9776971917, 0.5540483061], [0.2153675239, 2.12018241], [0.6043968612, 1.800419831], [-0.4349665423, 1.226852365]]\n",
            "Matriz de etiquetas de entrenamiento: \n",
            "[[0.]\n",
            " [1.]\n",
            " [1.]\n",
            " [1.]\n",
            " [1.]]\n",
            "\n",
            "Matriz de datos de test: \n",
            "[[2.806944365, 2.885193104], [0.4767252453, -0.3661856701], [2.830055031, 2.794110605], [0.2891528229, -0.5916386772], [2.155935155, 1.772785562]]\n",
            "Matriz de etiquetas de test: \n",
            "[[0.]\n",
            " [0.]\n",
            " [0.]\n",
            " [0.]\n",
            " [0.]]\n"
          ]
        }
      ]
    },
    {
      "cell_type": "code",
      "source": [
        "# Biding para la red\n",
        "X = x_train\n",
        "Y = y_train"
      ],
      "metadata": {
        "id": "tensOhJdQM5P"
      },
      "execution_count": 238,
      "outputs": []
    },
    {
      "cell_type": "markdown",
      "metadata": {
        "id": "HJK1HUeOMcYb"
      },
      "source": [
        "# Implementación de la arquitectura de una red FC"
      ]
    },
    {
      "cell_type": "code",
      "execution_count": 239,
      "metadata": {
        "id": "ZiUme8n-9_vh"
      },
      "outputs": [],
      "source": [
        "'''\n",
        "Hiper-parametros\n",
        "'''\n",
        "input = X.shape[1]    # Número de entradas\n",
        "data = X.shape[0]     # Número de datos\n",
        "output = Y.shape[1]   # Número de salidas\n",
        "learning_rate = 0.3   # Learning rate\n",
        "iterations = 3000     # Número de iteraciones\n",
        "layers = 3            # Número de capas"
      ]
    },
    {
      "cell_type": "code",
      "execution_count": 240,
      "metadata": {
        "id": "RU7ix6ppHl0P"
      },
      "outputs": [],
      "source": [
        "'''\n",
        "Analiticas\n",
        "'''\n",
        "lost_evolution = []"
      ]
    },
    {
      "cell_type": "markdown",
      "metadata": {
        "id": "RbH67rwHC2rK"
      },
      "source": [
        "# Arquitectura de la red"
      ]
    },
    {
      "cell_type": "code",
      "execution_count": 241,
      "metadata": {
        "id": "EDkkslhVC5lS"
      },
      "outputs": [],
      "source": [
        "'''\n",
        "0: Clasificación usando BCE\n",
        "1: Regresión usando LSE\n",
        "'''\n",
        "net_type = 0"
      ]
    },
    {
      "cell_type": "code",
      "execution_count": 242,
      "metadata": {
        "id": "iwyGQISJEoFg"
      },
      "outputs": [],
      "source": [
        "'''\n",
        "Entradas:         2 neuronas\n",
        "Capa de entrada:  2 neuronas\n",
        "Capa oculta:      2 neuronas\n",
        "Capa de salida:   1 neurona\n",
        "'''\n",
        "net_architecture = [input, 2, 2, output]"
      ]
    },
    {
      "cell_type": "code",
      "execution_count": 243,
      "metadata": {
        "id": "1h5eJL8uErlf"
      },
      "outputs": [],
      "source": [
        "'''\n",
        "Función de activación para cada capa\n",
        "'''\n",
        "\n",
        "'''\n",
        "2: Función de activación tanh\n",
        "1: Función de activación sigmoidal\n",
        "0: Función de activación lineal\n",
        "'''\n",
        "net_function = [2, 2, 1]"
      ]
    },
    {
      "cell_type": "code",
      "execution_count": 244,
      "metadata": {
        "id": "d88s40vFDdHF"
      },
      "outputs": [],
      "source": [
        "'''\n",
        "Inicialización de parametros\n",
        "'''\n",
        "bias = []             # Matriz de bias\n",
        "weight = []           # Matriz de pesos\n",
        "bias_gradient = []    # Matriz de gradientes de los bias\n",
        "weight_gradient = []  # Matriz de gradientes de los pesos"
      ]
    },
    {
      "cell_type": "code",
      "execution_count": 245,
      "metadata": {
        "id": "ysYnhCJGO6Ii",
        "colab": {
          "base_uri": "https://localhost:8080/"
        },
        "outputId": "744443cb-d2c9-411e-c362-96bdae42278b"
      },
      "outputs": [
        {
          "output_type": "stream",
          "name": "stdout",
          "text": [
            "Matriz de bias:\n",
            " [array([[0.53704474],\n",
            "        [0.75251511]]) array([[0.21719554],\n",
            "                              [0.8046913 ]]) array([[0.90695949]])]\n",
            "Matriz de pesos (weight):\n",
            " [array([[0.15602488, 0.96904533],\n",
            "        [0.56940586, 0.46828019]]) array([[0.38518481, 0.05820942],\n",
            "                                          [0.15350342, 0.91997562]])\n",
            " array([[0.10365624, 0.13570921]])]\n",
            "Matriz de gradientes de los bias:\n",
            " [array([[0.],\n",
            "        [0.]]) array([[0.],\n",
            "                      [0.]]) array([[0.]])]\n",
            "Matriz de gradientes de los pesos:\n",
            " [array([[0., 0.],\n",
            "        [0., 0.]]) array([[0., 0.],\n",
            "                          [0., 0.]]) array([[0., 0.]])]\n"
          ]
        }
      ],
      "source": [
        "for i in range(layers):   # Para recorrer cada capa de la red\n",
        "  matrix_layer = np.random.rand(net_architecture[i + 1], net_architecture[i])\n",
        "  weight.append(matrix_layer)\n",
        "\n",
        "  matrix_gradient = np.zeros([net_architecture[i + 1], net_architecture[i]])\n",
        "  weight_gradient.append(matrix_gradient)\n",
        "\n",
        "  bias_matrix = np.random.rand(net_architecture[i + 1], 1)\n",
        "  bias.append(bias_matrix)\n",
        "\n",
        "  gradient_vector = np.zeros([net_architecture[i + 1], 1])\n",
        "  bias_gradient.append(gradient_vector)\n",
        "\n",
        "bias = np.array(bias, dtype=object)\n",
        "weight = np.array(weight, dtype=object)\n",
        "bias_gradient = np.array(bias_gradient, dtype=object)\n",
        "weight_gradient = np.array(weight_gradient, dtype=object)\n",
        "\n",
        "print(f\"Matriz de bias:\\n {bias}\")\n",
        "print(f\"Matriz de pesos (weight):\\n {weight}\")\n",
        "print(f\"Matriz de gradientes de los bias:\\n {bias_gradient}\")\n",
        "print(f\"Matriz de gradientes de los pesos:\\n {weight_gradient}\")"
      ]
    },
    {
      "cell_type": "markdown",
      "metadata": {
        "id": "RhGxXexgMyx0"
      },
      "source": [
        "# Utilidades generales para la red neuronal"
      ]
    },
    {
      "cell_type": "code",
      "execution_count": 246,
      "metadata": {
        "id": "obN8IaGkBphi"
      },
      "outputs": [],
      "source": [
        "'''\n",
        "Funciones de utilidad\n",
        "'''\n",
        "def get_net_type(net_type):\n",
        "  if (net_type == 0):\n",
        "    return \"BCE\"\n",
        "  elif (net_type == 1):\n",
        "    return \"LSE\"\n",
        "\n",
        "def matrix_zeros(matrix, num_layer):\n",
        "  for index in range(num_layer):\n",
        "    matrix[index] = np.zeros((matrix[index].shape[0], matrix[index].shape[1]))\n",
        "\n",
        "  return matrix\n",
        "\n",
        "def extract_data(size, layer):\n",
        "  X1 = np.zeros((1, size[0]))\n",
        "  Y1 = np.zeros((1, size[1]))\n",
        "  X1[0, :] = X[layer, :]\n",
        "  Y1[0, :] = Y[layer, :]\n",
        "  return [X1, Y1]\n",
        "\n",
        "def activation_function(zp, act_fun):\n",
        "  if(act_fun == 0):                       # Función de activación: lineal\n",
        "    zp_activated = zp\n",
        "  elif(act_fun == 1):                     # Función de activación: sigmoidal\n",
        "    zp_activated = 1 / (1 + np.exp(-zp))\n",
        "  else:                                   # Función de activación: tanh\n",
        "    zp_activated = np.tanh(zp)\n",
        "  return zp_activated\n",
        "\n",
        "def prediction(w_in, bias_in, x_in, nl_in, l_in):\n",
        "  transpose_matrix = np.vstack((np.transpose(x_in), np.ones((1, 1))))\n",
        "  activated = []\n",
        "\n",
        "  for layer in range(l_in):\n",
        "    params_matrix = np.hstack((w_in[layer], bias_in[layer]))\n",
        "    # Capa de entrada\n",
        "    if (layer + 1 == 1):\n",
        "      # Función de activación y actualización de pesos\n",
        "      zp = np.dot(params_matrix, transpose_matrix)\n",
        "    # Capas ocultas o de salida\n",
        "    else:\n",
        "      # Vector de la capa anterior\n",
        "      activation_vector = np.vstack((activated[layer-1], np.ones((1, 1))))\n",
        "      # Función de activación y actualización de pesos\n",
        "      zp = np.dot(params_matrix, activation_vector)\n",
        "\n",
        "    activated.append(activation_function(zp, nl_in[layer]))\n",
        "\n",
        "  return activated\n",
        "\n",
        "# Función de activación en la capa de salida\n",
        "def delta_output(Nl_delta, y_delta, output_delta):\n",
        "  if(y_delta[0, 0]):\n",
        "    lost = -1 / output_delta\n",
        "  else:\n",
        "    lost = 1 / (1 - output_delta)\n",
        "\n",
        "  if(Nl_delta == 0):\n",
        "    # Lineal\n",
        "    delta = lost\n",
        "  elif(Nl_delta == 1):\n",
        "    # Sigmoidal\n",
        "    delta = lost * (output_delta * (1 - output_delta))\n",
        "  elif (Nl_delta == 2):\n",
        "    # Tangente hiperbolico\n",
        "    delta = lost * (1 - output_delta ** 2)\n",
        "\n",
        "  return delta\n",
        "\n",
        "def delta_layer(prev_delta, w_delta, Zl_delta, Nl_delta):\n",
        "  delta_transpose = np.dot(np.transpose(w_delta), prev_delta)\n",
        "\n",
        "  if(Nl_delta == 0):\n",
        "    # Lineal\n",
        "    delta = delta_transpose\n",
        "  elif(Nl_delta == 1):\n",
        "    # Sigmoidal\n",
        "    delta = delta_transpose * (Zl_delta * (1 - Zl_delta))\n",
        "  elif (Nl_delta == 2):\n",
        "    # Tangente hiperbolico\n",
        "    delta = delta_transpose * (1 - Zl_delta ** 2)\n",
        "\n",
        "  return delta"
      ]
    },
    {
      "cell_type": "markdown",
      "metadata": {
        "id": "ZDDypG-iM5ID"
      },
      "source": [
        "# Desarrolle una función que permita propagar cada dato (Backpropagation)"
      ]
    },
    {
      "cell_type": "code",
      "execution_count": 247,
      "metadata": {
        "id": "WB4cJo6pNHzK"
      },
      "outputs": [],
      "source": [
        "for i in range(iterations):\n",
        "  for j in range(data):\n",
        "    X1, Y1 = extract_data([input, output], j)\n",
        "    current_prediction = prediction(weight, bias, X1, net_function, layers)\n",
        "    error_track = []\n",
        "\n",
        "    '''\n",
        "    Backpropagation\n",
        "    '''\n",
        "    for h in range(layers - 1, -1, -1):\n",
        "      # Capa de salida\n",
        "      if (h + 1 == layers):\n",
        "        error = delta_output(net_function[h], Y1, current_prediction[h])\n",
        "      # Las demás capas\n",
        "      else:\n",
        "        error = delta_layer(error, weight[h + 1], current_prediction[h], net_function[h])\n",
        "      error_track.append(error)\n",
        "    error_track.reverse()\n",
        "    error_track = np.array(error_track, dtype=object)\n",
        "\n",
        "    # Gradientes de los bias y los pesos\n",
        "    for t in range(layers):\n",
        "      bias_gradient[t] = bias_gradient[t] + error_track[t]\n",
        "      # Capa de entrada\n",
        "      if(t == 0):\n",
        "        weight_gradient[t] = weight_gradient[t] + X1 * error_track[t]\n",
        "      # Capa de salida y capas ocultas\n",
        "      else:\n",
        "        weight_gradient[t] = weight_gradient[t] + np.transpose(current_prediction[t - 1]) * error_track[t]\n",
        "\n",
        "  '''\n",
        "  Actualización\n",
        "  '''\n",
        "  for k in range(layers):\n",
        "    bias[k] = bias[k] - (learning_rate / data) * (bias_gradient[k])\n",
        "    weight[k] = weight[k] - (learning_rate / data) * weight_gradient[k]\n",
        "  prediction_vector = []\n",
        "\n",
        "  '''\n",
        "  Función de perdida\n",
        "  '''\n",
        "  for a in range(data):\n",
        "    evolution = 0\n",
        "    X1, Y1 = extract_data([input, output], a)\n",
        "    prediction_vector = prediction(weight, bias, X1, net_function, layers)\n",
        "\n",
        "    if (net_type == 0):\n",
        "      # Implementación de la fusión de perdida (BCE)\n",
        "      if(Y1[0, 0]):\n",
        "        evolution -= np.log(prediction_vector[layers - 1])\n",
        "      else:\n",
        "        evolution -= np.log(1 - prediction_vector[layers - 1])\n",
        "    elif (net_type == 1):\n",
        "      # Implementación de la fusión de perdida (LSE)\n",
        "      evolution += (prediction_vector[layers - 1] - Y1[0, 0]) ** 2\n",
        "\n",
        "  lost_evolution.append(evolution)\n",
        "\n",
        "  '''\n",
        "  Reincio del bucle - Limpieza de matrices\n",
        "  '''\n",
        "  weight_gradient = matrix_zeros(weight_gradient, layers)\n",
        "  bias_gradient = matrix_zeros(bias_gradient, layers)"
      ]
    },
    {
      "cell_type": "code",
      "execution_count": 248,
      "metadata": {
        "id": "Q0bwKFo_ECXv",
        "colab": {
          "base_uri": "https://localhost:8080/"
        },
        "outputId": "4256ef26-382c-43fe-b364-a751c1ed5e01"
      },
      "outputs": [
        {
          "output_type": "stream",
          "name": "stdout",
          "text": [
            "[[2.65875677 2.7619046 ]] [[0.]] [[0.00060393]]\n",
            "[[-0.97769719  0.55404831]] [[1.]] [[0.99947292]]\n",
            "[[0.21536752 2.12018241]] [[1.]] [[0.99947863]]\n",
            "[[0.60439686 1.80041983]] [[1.]] [[0.9991816]]\n",
            "[[-0.43496654  1.22685237]] [[1.]] [[0.99947258]]\n",
            "[[-0.79314048  0.35490508]] [[1.]] [[0.9993905]]\n",
            "[[ 0.02313103 -0.51586945]] [[0.]] [[0.0005909]]\n",
            "[[ 0.48153611 -0.13281117]] [[0.]] [[0.00057108]]\n",
            "[[0.27066009 1.94423966]] [[1.]] [[0.9994591]]\n",
            "[[-1.65173681 -0.44064805]] [[1.]] [[0.99945191]]\n",
            "[[-0.31802445 -0.49136342]] [[0.]] [[0.00078398]]\n",
            "[[-1.54987223 -0.21488745]] [[1.]] [[0.99946676]]\n",
            "[[-2.28390153 -0.9557649 ]] [[1.]] [[0.99947575]]\n",
            "[[-1.58721504 -0.37743925]] [[1.]] [[0.9994499]]\n",
            "[[2.53508979 2.85145093]] [[0.]] [[0.000697]]\n",
            "[[-0.28718809 -1.21399923]] [[0.]] [[0.00056985]]\n",
            "[[-0.53090487 -0.58961488]] [[0.]] [[0.00112184]]\n",
            "[[-0.17307868  1.48213049]] [[1.]] [[0.99946721]]\n",
            "[[-2.15399212 -0.46852786]] [[1.]] [[0.99949154]]\n",
            "[[1.68594357 1.03219745]] [[0.]] [[0.00055595]]\n",
            "[[-0.58771837 -0.80361702]] [[0.]] [[0.00080022]]\n",
            "[[0.80552799 2.88106069]] [[1.]] [[0.9994808]]\n",
            "[[-1.400422  0.323711]] [[1.]] [[0.99948827]]\n",
            "[[2.50582262 2.26616877]] [[0.]] [[0.00056651]]\n",
            "[[1.42459079 0.93137197]] [[0.]] [[0.00056494]]\n",
            "[[0.03557751 1.45563614]] [[1.]] [[0.99942232]]\n",
            "[[-1.09505951  0.09222786]] [[1.]] [[0.99942501]]\n",
            "[[0.00885512 1.79291468]] [[1.]] [[0.99947416]]\n",
            "[[-2.44806498 -1.48365524]] [[1.]] [[0.99942777]]\n",
            "[[1.50339484 1.56381399]] [[0.]] [[0.00067304]]\n",
            "[[0.64756061 0.5702177 ]] [[0.]] [[0.00069698]]\n",
            "[[2.53040839 2.86580172]] [[0.]] [[0.00071144]]\n",
            "[[-2.24963112 -0.66124354]] [[1.]] [[0.99948881]]\n",
            "[[1.84764893 2.03827777]] [[0.]] [[0.0007105]]\n",
            "[[-1.23607712 -0.1026309 ]] [[1.]] [[0.99941714]]\n",
            "[[1.48970572 1.58008493]] [[0.]] [[0.00069272]]\n",
            "[[ 0.00206494 -0.72440069]] [[0.]] [[0.00057387]]\n",
            "[[-0.88177511  0.3966415 ]] [[1.]] [[0.99943628]]\n",
            "[[1.34488462 0.61319856]] [[0.]] [[0.00055587]]\n",
            "[[0.92135522 2.14334537]] [[1.]] [[0.99910522]]\n",
            "[[-0.79329779 -1.59753932]] [[0.]] [[0.0005881]]\n",
            "[[-0.54540527 -0.73036928]] [[0.]] [[0.00082942]]\n",
            "[[-0.51863551 -1.00540671]] [[0.]] [[0.00062837]]\n",
            "[[-1.24139975  0.63533918]] [[1.]] [[0.99949037]]\n",
            "[[0.71788975 0.32198167]] [[0.]] [[0.00058795]]\n",
            "[[1.95789031 1.552258  ]] [[0.]] [[0.00056353]]\n",
            "[[2.95014239 3.04635256]] [[0.]] [[0.00059147]]\n",
            "[[2.41168445 2.47041031]] [[0.]] [[0.00060554]]\n",
            "[[-0.56154264 -1.500215  ]] [[0.]] [[0.00057396]]\n",
            "[[-0.02143676  1.47284962]] [[1.]] [[0.9994416]]\n",
            "[[-0.99721834 -1.31537077]] [[0.]] [[0.00078436]]\n",
            "[[-0.9980275  -1.47894861]] [[0.]] [[0.00066994]]\n",
            "[[1.63307474 1.57725126]] [[0.]] [[0.0006174]]\n",
            "[[-0.30953067 -1.01883877]] [[0.]] [[0.0005835]]\n",
            "[[0.88643108 0.30477012]] [[0.]] [[0.00056666]]\n",
            "[[-2.91465698 -1.67281333]] [[1.]] [[0.99947675]]\n",
            "[[-0.56430698  0.44191673]] [[1.]] [[0.99925415]]\n",
            "[[0.92894045 2.43356444]] [[1.]] [[0.99938732]]\n",
            "[[-2.07388864 -0.90990085]] [[1.]] [[0.99945459]]\n",
            "[[-2.27580681 -0.99313223]] [[1.]] [[0.999472]]\n",
            "[[-0.29772639  1.21234592]] [[1.]] [[0.99945388]]\n",
            "[[-2.48291429 -1.55524039]] [[1.]] [[0.99941958]]\n",
            "[[0.50376604 1.69242137]] [[1.]] [[0.99920296]]\n",
            "[[1.58229552 1.44810118]] [[0.]] [[0.00060165]]\n",
            "[[1.52565517 1.63424609]] [[0.]] [[0.00069995]]\n",
            "[[ 0.2363079 -0.3179777]] [[0.]] [[0.00058213]]\n",
            "[[0.70007023 2.52715913]] [[1.]] [[0.99946577]]\n",
            "[[-1.3717689  -0.39394033]] [[1.]] [[0.99935812]]\n",
            "[[-0.08815931  1.26435036]] [[1.]] [[0.99941036]]\n",
            "[[0.06309761 1.66916915]] [[1.]] [[0.99945623]]\n",
            "[[2.35634515 2.43537561]] [[0.]] [[0.00061297]]\n",
            "[[2.99595519 3.04559364]] [[0.]] [[0.00058351]]\n",
            "[[-2.23990616 -0.51899492]] [[1.]] [[0.99949247]]\n",
            "[[-2.72923006 -1.60040263]] [[1.]] [[0.99946447]]\n",
            "[[ 0.21262574 -0.58738393]] [[0.]] [[0.00056568]]\n"
          ]
        }
      ],
      "source": [
        "'''\n",
        "Verificación de los resultados\n",
        "'''\n",
        "for j in range(data):\n",
        "  X1, Y1 = extract_data([input, output], j)\n",
        "  current_prediction = prediction(weight, bias, X1, net_function, layers)\n",
        "  print(X1, Y1, current_prediction[layers - 1])"
      ]
    },
    {
      "cell_type": "markdown",
      "metadata": {
        "id": "CY_RX_piD3_R"
      },
      "source": [
        "# Analiticas del rendimiento"
      ]
    },
    {
      "cell_type": "code",
      "execution_count": 249,
      "metadata": {
        "id": "hMZzzzNqD0Nu"
      },
      "outputs": [],
      "source": [
        "'''\n",
        "Analiticas de rendimiento\n",
        "'''\n",
        "epochs = np.arange(1, iterations + 1, 1)\n",
        "loss = np.concatenate(lost_evolution)"
      ]
    },
    {
      "cell_type": "code",
      "execution_count": 250,
      "metadata": {
        "id": "HyLwM2ko_yBv",
        "colab": {
          "base_uri": "https://localhost:8080/",
          "height": 472
        },
        "outputId": "45051353-35b5-45a4-fa4e-228afed6f807"
      },
      "outputs": [
        {
          "output_type": "display_data",
          "data": {
            "text/plain": [
              "<Figure size 640x480 with 1 Axes>"
            ],
            "image/png": "[encoded data removed]"
          },
          "metadata": {}
        }
      ],
      "source": [
        "'''\n",
        "Graficas sobre el rendimiento\n",
        "'''\n",
        "plt.plot(epochs, loss, '.m')\n",
        "plt.ylabel(f\"Perdida ({get_net_type(net_type)})\")\n",
        "plt.xlabel(f\"{iterations} epocas\")\n",
        "plt.title(\"Perdida atraves de las epocas\")\n",
        "plt.show()"
      ]
    },
    {
      "cell_type": "code",
      "source": [
        "# Se grafica o la curva de contorno\n",
        "delta = 100\n",
        "x_grid = np.linspace(-2.8, 3.2, delta)\n",
        "y_grid = np.linspace(-2.8, 3.2, delta)\n",
        "mesh_x, mesh_y = np.meshgrid(x_grid, y_grid)\n",
        "grid = np.zeros((100, 100))\n",
        "\n",
        "for w, i in enumerate(y_grid):\n",
        "  outline = np.zeros((1, input))\n",
        "  outline[0, 1] = i\n",
        "  for g, j in enumerate(y_grid):\n",
        "    outline[0, 0] = j\n",
        "    current_prediction = prediction(weight, bias, outline, net_function, layers)\n",
        "    current_prediction = current_prediction[layers - 1]\n",
        "    grid[w, g] = current_prediction[0, 0]\n",
        "\n",
        "value_level = 1"
      ],
      "metadata": {
        "id": "5Pulpux4xk2N"
      },
      "execution_count": 333,
      "outputs": []
    },
    {
      "cell_type": "code",
      "source": [
        "\"\"\"\n",
        "Grafica de X1 vs X2 (Train)\n",
        "\"\"\"\n",
        "index_tag_class_1 = np.where(train_set[\"Y\"] == 1)\n",
        "index_tag_class_2 = np.where(train_set[\"Y\"] == -1)\n",
        "\n",
        "tag_class_1 = train_set[[\"X1\", \"X2\"]].iloc[index_tag_class_1]\n",
        "tag_class_2 = train_set[[\"X1\", \"X2\"]].iloc[index_tag_class_2]\n",
        "\n",
        "plt.plot(tag_class_1[\"X1\"], tag_class_1[\"X2\"], \".r\", label=\"(Train) X1\")\n",
        "plt.plot(tag_class_2[\"X1\"], tag_class_2[\"X2\"], \".b\", label=\"(Train) X2\")\n",
        "\n",
        "\n",
        "\"\"\"\n",
        "Grafico de la curva de decisión\n",
        "\"\"\"\n",
        "plt.contour(mesh_x, mesh_y, grid, 1, colors = 'r')\n",
        "\n",
        "plt.title(\"Analisis de X1 y X2 train\")\n",
        "plt.show()"
      ],
      "metadata": {
        "colab": {
          "base_uri": "https://localhost:8080/",
          "height": 452
        },
        "id": "-hDU7GBWKv8_",
        "outputId": "16572e79-51a8-4d40-d4eb-82af3dbbb371"
      },
      "execution_count": 334,
      "outputs": [
        {
          "output_type": "display_data",
          "data": {
            "text/plain": [
              "<Figure size 640x480 with 1 Axes>"
            ],
            "image/png": "[encoded data removed]"
          },
          "metadata": {}
        }
      ]
    },
    {
      "cell_type": "code",
      "source": [
        "\"\"\"\n",
        "Grafica de X1 vs X2 (Test)\n",
        "\"\"\"\n",
        "index_tag_class_1 = np.where(test_set[\"Y\"] == 1)\n",
        "index_tag_class_2 = np.where(test_set[\"Y\"] == -1)\n",
        "\n",
        "tag_class_1 = test_set[[\"X1\", \"X2\"]].iloc[index_tag_class_1]\n",
        "tag_class_2 = test_set[[\"X1\", \"X2\"]].iloc[index_tag_class_2]\n",
        "\n",
        "plt.plot(tag_class_1[\"X1\"], tag_class_1[\"X2\"], \"^m\", label=\"(Test) X1\")\n",
        "plt.plot(tag_class_2[\"X1\"], tag_class_2[\"X2\"], \"^g\", label=\"(Test) X2\")\n",
        "\n",
        "\n",
        "\"\"\"\n",
        "Grafico de la curva de decisión\n",
        "\"\"\"\n",
        "plt.contour(mesh_x, mesh_y, grid, 1, colors = 'r')\n",
        "\n",
        "plt.title(\"Analisis de X1 y X2 test\")\n",
        "plt.show()"
      ],
      "metadata": {
        "colab": {
          "base_uri": "https://localhost:8080/",
          "height": 452
        },
        "id": "oDZ48hu8Kzo2",
        "outputId": "fc951b5d-3377-4f22-cc4d-94993b1ceb09"
      },
      "execution_count": 335,
      "outputs": [
        {
          "output_type": "display_data",
          "data": {
            "text/plain": [
              "<Figure size 640x480 with 1 Axes>"
            ],
            "image/png": "[encoded data removed]"
          },
          "metadata": {}
        }
      ]
    },
    {
      "cell_type": "code",
      "execution_count": 336,
      "metadata": {
        "id": "0aMyU2BqTrZ1",
        "colab": {
          "base_uri": "https://localhost:8080/"
        },
        "outputId": "6a27f180-87a9-4be6-e500-88bc0a835270"
      },
      "outputs": [
        {
          "output_type": "stream",
          "name": "stdout",
          "text": [
            "[[37.  0.]\n",
            " [ 0. 38.]]\n"
          ]
        }
      ],
      "source": [
        "'''\n",
        "Extrayendo caracteristicas para la matriz de confusión\n",
        "'''\n",
        "unique_tags = np.unique(np.concatenate(Y))\n",
        "confusion_matrix = np.zeros((unique_tags.shape[0], unique_tags.shape[0]))\n",
        "\n",
        "for j in range(data):\n",
        "  X1, Y1 = extract_data([input, output], j)\n",
        "  current_prediction = prediction(weight, bias, X1, net_function, layers)\n",
        "  predicted_tag = current_prediction[layers - 1][0][0]\n",
        "  rounded_tag = np.round(predicted_tag)\n",
        "\n",
        "  '''\n",
        "  Para la construcción de la matriz de confusión (El grafico)\n",
        "  '''\n",
        "  for tag in range(unique_tags.shape[0]):\n",
        "    if (rounded_tag == unique_tags[tag]):\n",
        "      if (Y1[0][0] == rounded_tag):\n",
        "        confusion_matrix[tag][tag] += 1\n",
        "      else:\n",
        "        for fix in range(unique_tags.shape[0]):\n",
        "          confusion_matrix[tag][fix] += 1\n",
        "        confusion_matrix[tag][tag] -= 1\n",
        "\n",
        "# Mostrando la matriz en números\n",
        "print(confusion_matrix)"
      ]
    },
    {
      "cell_type": "code",
      "execution_count": 337,
      "metadata": {
        "id": "4hSMYsKX-TDD",
        "colab": {
          "base_uri": "https://localhost:8080/"
        },
        "outputId": "0ecac5f9-6b7c-4a59-d122-d0cc7c7ba70e"
      },
      "outputs": [
        {
          "output_type": "stream",
          "name": "stdout",
          "text": [
            "Precisión: 1.0\n",
            "Sensibilidad: 1.0\n",
            "Especificidad: 1.0\n",
            "Exactitud: 1.0\n",
            "F1 Score: 1.0\n"
          ]
        }
      ],
      "source": [
        "'''\n",
        "Otras analisticas extraidas de la matriz de confusión\n",
        "'''\n",
        "\n",
        "TP = confusion_matrix[1][1] # True Positive\n",
        "TN = confusion_matrix[0][0] # True Negative\n",
        "FP = confusion_matrix[0][1] # False Positive\n",
        "FN = confusion_matrix[1][0] # False Negative\n",
        "\n",
        "precision = TP / (TP + FP)\n",
        "sensitivity = TP / (TP + FN)\n",
        "specificity = TN / (TN + FP)\n",
        "accuracy = (TP + TN) / (TP + TN + FP + FN)\n",
        "f1_score = 2 * (precision * sensitivity) / (precision + sensitivity)\n",
        "\n",
        "print(f\"Precisión: {precision}\")\n",
        "print(f\"Sensibilidad: {sensitivity}\")\n",
        "print(f\"Especificidad: {specificity}\")\n",
        "print(f\"Exactitud: {accuracy}\")\n",
        "print(f\"F1 Score: {f1_score}\")"
      ]
    },
    {
      "cell_type": "code",
      "execution_count": 338,
      "metadata": {
        "id": "A2vjU6ItPXXP",
        "colab": {
          "base_uri": "https://localhost:8080/",
          "height": 487
        },
        "outputId": "eee6c20a-c6cf-4d2d-f55e-a8693d796243"
      },
      "outputs": [
        {
          "output_type": "display_data",
          "data": {
            "text/plain": [
              "<Figure size 640x480 with 1 Axes>"
            ],
            "image/png": "[encoded data removed]"
          },
          "metadata": {}
        }
      ],
      "source": [
        "actual_label = [\"AN\", \"AP\"]\n",
        "predicted_label = [\"PN\", \"PP\"]\n",
        "\n",
        "fig, ax = plt.subplots()\n",
        "im = ax.imshow(confusion_matrix, cmap=plt.colormaps[\"flag\"].resampled(7))\n",
        "\n",
        "# Para agregar los labels\n",
        "ax.set_xticks(np.arange(len(predicted_label)), labels=predicted_label)\n",
        "ax.set_yticks(np.arange(len(actual_label)), labels=actual_label)\n",
        "\n",
        "\n",
        "# Para centrar los textos\n",
        "plt.setp(ax.get_xticklabels(), rotation=45, ha=\"right\", rotation_mode=\"anchor\")\n",
        "\n",
        "# Para poner los números a cada recuadro.\n",
        "for i in range(len(predicted_label)):\n",
        "    for j in range(len(actual_label)):\n",
        "        text = ax.text(j, i, confusion_matrix[i, j], ha=\"center\", va=\"center\", color=\"w\")\n",
        "\n",
        "ax.set_title(\"Matriz de confusión\")\n",
        "fig.tight_layout()\n",
        "plt.show()"
      ]
    },
    {
      "cell_type": "code",
      "execution_count": 339,
      "metadata": {
        "id": "WHr4-I4tQNhT"
      },
      "outputs": [],
      "source": [
        "expected = Y.flatten()\n",
        "prediction_to_analize = []\n",
        "\n",
        "for j in range(data):\n",
        "  X1, Y1 = extract_data([input, output], j)\n",
        "  current_prediction = prediction(weight, bias, X1, net_function, layers)\n",
        "  prediction_to_analize.append(current_prediction[layers - 1].flatten()[0])"
      ]
    },
    {
      "cell_type": "code",
      "execution_count": 340,
      "metadata": {
        "id": "7GJxk7F0PPQF",
        "colab": {
          "base_uri": "https://localhost:8080/",
          "height": 472
        },
        "outputId": "47185b99-e08f-4be4-cee2-cbb4b8036892"
      },
      "outputs": [
        {
          "output_type": "display_data",
          "data": {
            "text/plain": [
              "<Figure size 640x480 with 1 Axes>"
            ],
            "image/png": "[encoded data removed]"
          },
          "metadata": {}
        }
      ],
      "source": [
        "# Se define un vector de umbrales\n",
        "thresholds = np.arange(0, 1.1, 0.1)\n",
        "\n",
        "'''\n",
        "Calculo de FPR y TPR como rates\n",
        "'''\n",
        "tpr = []\n",
        "fpr = []\n",
        "for threshold in thresholds:\n",
        "    tpr.append(np.sum((expected == 1) & (prediction_to_analize >= threshold)) / np.sum(expected))\n",
        "    fpr.append(np.sum((expected == 0) & (prediction_to_analize >= threshold)) / np.sum(expected == 0))\n",
        "\n",
        "auc = np.trapz(tpr, fpr)\n",
        "\n",
        "plt.plot(fpr, tpr, \"-m\", label=f\"ROC de {auc} (AUC)\")\n",
        "plt.plot(thresholds, thresholds, \"--b\", label=\"Peor curva\")\n",
        "plt.xlabel('Tasa de falsos positivos (FPR)')\n",
        "plt.ylabel('Tasa de verdaderos positivos (TPR)')\n",
        "plt.title(\"Curva ROC\")\n",
        "plt.show()"
      ]
    }
  ],
  "metadata": {
    "colab": {
      "provenance": []
    },
    "kernelspec": {
      "display_name": "Python 3",
      "name": "python3"
    },
    "language_info": {
      "name": "python"
    }
  },
  "nbformat": 4,
  "nbformat_minor": 0
}