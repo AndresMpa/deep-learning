{
  "nbformat": 4,
  "nbformat_minor": 0,
  "metadata": {
    "colab": {
      "provenance": []
    },
    "kernelspec": {
      "name": "python3",
      "display_name": "Python 3"
    },
    "language_info": {
      "name": "python"
    }
  },
  "cells": [
    {
      "cell_type": "markdown",
      "source": [
        "# Recolección y manejo de los datos"
      ],
      "metadata": {
        "id": "HvuLv1Qs7Dt6"
      }
    },
    {
      "cell_type": "markdown",
      "source": [
        "1) Transfiera  el  dataset  a  un  frame  panda  utilizando  el  método `pd.read.csv(‘dirección_dataset_cargado.csv’)`"
      ],
      "metadata": {
        "id": "WbPjMXrY-iS4"
      }
    },
    {
      "cell_type": "code",
      "execution_count": 453,
      "metadata": {
        "id": "XbezpFjqh7xS",
        "colab": {
          "base_uri": "https://localhost:8080/"
        },
        "outputId": "4cf9be21-ad88-4b7b-a141-0ab69714c7e3"
      },
      "outputs": [
        {
          "output_type": "stream",
          "name": "stdout",
          "text": [
            "fatal: destination path 'Database' already exists and is not an empty directory.\n"
          ]
        }
      ],
      "source": [
        "!git clone https://github.com/ChenaoB/Database"
      ]
    },
    {
      "cell_type": "code",
      "source": [
        "import numpy as np\n",
        "import pandas as pd\n",
        "import matplotlib.pyplot as plt"
      ],
      "metadata": {
        "id": "EUUlZo1Oh9U2"
      },
      "execution_count": 454,
      "outputs": []
    },
    {
      "cell_type": "code",
      "source": [
        "\"\"\"\n",
        "Se transfiere la data a pandas\n",
        "\"\"\"\n",
        "df = pd.read_csv(\"/content/Database/DataLeastSquareClasificationtTwoClass.csv\")"
      ],
      "metadata": {
        "id": "JM8EvtFOiSGF"
      },
      "execution_count": 455,
      "outputs": []
    },
    {
      "cell_type": "markdown",
      "source": [
        "2) Divida el dataset de la siguiente forma: 75% para entrenamiento el restante para validación"
      ],
      "metadata": {
        "id": "ty0z1L1wH6lr"
      }
    },
    {
      "cell_type": "code",
      "source": [
        "\"\"\"\n",
        "Se divide el dataset en 75 para entrenamiento y el restante para test\n",
        "\"\"\"\n",
        "train_set = df.sample(frac = 0.75, random_state=39)\n",
        "test_set = df.drop(train_set.index)\n",
        "\n",
        "\"\"\"\n",
        "Tengo 2 entradas: X1 X2 (Por tanto es un problema biclase)\n",
        "Tengo 2 tags: 1, -1 (Esto sería 1 salida)\n",
        "\"\"\"\n",
        "print(train_set[:5])\n",
        "print(test_set[:5])"
      ],
      "metadata": {
        "id": "fU26g3BrH9RQ",
        "colab": {
          "base_uri": "https://localhost:8080/"
        },
        "outputId": "443dce2a-905c-4337-ecc3-bf8003bb6da1"
      },
      "execution_count": 456,
      "outputs": [
        {
          "output_type": "stream",
          "name": "stdout",
          "text": [
            "          X1        X2  Y\n",
            "22  2.658757  2.761905 -1\n",
            "53 -0.977697  0.554048  1\n",
            "84  0.215368  2.120182  1\n",
            "57  0.604397  1.800420  1\n",
            "87 -0.434967  1.226852  1\n",
            "          X1        X2  Y\n",
            "4   2.806944  2.885193 -1\n",
            "9   0.476725 -0.366186 -1\n",
            "12  2.830055  2.794111 -1\n",
            "13  0.289153 -0.591639 -1\n",
            "14  2.155935  1.772786 -1\n"
          ]
        }
      ]
    },
    {
      "cell_type": "markdown",
      "source": [
        "# Modelo del perceptron\n",
        "\n",
        "Entradas\n",
        " - X (x_train / x_test)\n",
        " - y (y_train / y_test)\n",
        " - w nombrado \"weight\" (Pesos iniciales)\n",
        " - α nombrado \"alpha\" (Learning rate)"
      ],
      "metadata": {
        "id": "XKZA3osiyiV_"
      }
    },
    {
      "cell_type": "code",
      "source": [
        "# Construcción de matrices\n",
        "\n",
        "\"\"\"\n",
        "Matriz de etiquetas\n",
        "\"\"\"\n",
        "y_train = np.zeros((train_set.shape[0], 1))\n",
        "y_test = np.zeros((test_set.shape[0], 1))\n",
        "\n",
        "y_train = train_set[\"Y\"].values\n",
        "y_test = test_set[\"Y\"].values\n",
        "\n",
        "\"\"\"\n",
        "Matriz de datos\n",
        "\"\"\"\n",
        "x_train = np.zeros((train_set.shape[0], 2 + 1))\n",
        "x_test = np.zeros((test_set.shape[0], 2 + 1))\n",
        "\n",
        "x_train[:, 0:2] = train_set[[\"X1\", \"X2\"]].values\n",
        "x_train[:, 2] = np.ones(train_set.shape[0])\n",
        "\n",
        "x_test[:, 0:2] = test_set[[\"X1\", \"X2\"]].values\n",
        "x_test[:, 2] = np.ones(test_set.shape[0])\n",
        "\n",
        "# Se muestran los primeros 5 datos para verificación\n",
        "\n",
        "print(f\"Matriz de datos de entrenamiento: \\n{[[*data] for data in x_train[:5]]}\")\n",
        "print(f\"Matriz de etiquetas de entrenamiento: \\n{y_train[:5]}\", end=\"\\n\\n\")\n",
        "\n",
        "print(f\"Matriz de datos de test: \\n{[[*data] for data in x_test[:5]]}\")\n",
        "print(f\"Matriz de etiquetas de test: \\n{y_test[:5]}\")"
      ],
      "metadata": {
        "id": "kKPSjUuamgks",
        "colab": {
          "base_uri": "https://localhost:8080/"
        },
        "outputId": "d0213cc3-b98a-4ca2-8ff6-73a1a7db2bb8"
      },
      "execution_count": 457,
      "outputs": [
        {
          "output_type": "stream",
          "name": "stdout",
          "text": [
            "Matriz de datos de entrenamiento: \n",
            "[[2.658756772, 2.7619046, 1.0], [-0.9776971917, 0.5540483061, 1.0], [0.2153675239, 2.12018241, 1.0], [0.6043968612, 1.800419831, 1.0], [-0.4349665423, 1.226852365, 1.0]]\n",
            "Matriz de etiquetas de entrenamiento: \n",
            "[-1  1  1  1  1]\n",
            "\n",
            "Matriz de datos de test: \n",
            "[[2.806944365, 2.885193104, 1.0], [0.4767252453, -0.3661856701, 1.0], [2.830055031, 2.794110605, 1.0], [0.2891528229, -0.5916386772, 1.0], [2.155935155, 1.772785562, 1.0]]\n",
            "Matriz de etiquetas de test: \n",
            "[-1 -1 -1 -1 -1]\n"
          ]
        }
      ]
    },
    {
      "cell_type": "markdown",
      "source": [
        "3) Inicialice el vector de parámetros W utilizando algún método de muestreo estadístico, recuerde que para un problema biclase W este tiene tres valores."
      ],
      "metadata": {
        "id": "bgtHIs0x2h_l"
      }
    },
    {
      "cell_type": "code",
      "source": [
        "# Usando una distribución uniforme\n",
        "\n",
        "weight = np.random.rand(3)\n",
        "print(f\"Pesos iniciales (w): {weight}\")"
      ],
      "metadata": {
        "colab": {
          "base_uri": "https://localhost:8080/"
        },
        "id": "xo3cWhbitOpl",
        "outputId": "315075a1-110a-4bbe-df02-7be87d744fe0"
      },
      "execution_count": 458,
      "outputs": [
        {
          "output_type": "stream",
          "name": "stdout",
          "text": [
            "Pesos iniciales (w): [0.29281592 0.22602342 0.36096474]\n"
          ]
        }
      ]
    },
    {
      "cell_type": "markdown",
      "source": [
        "4) Establezca un valor de α (Learning rate) = 0.3"
      ],
      "metadata": {
        "id": "kqXJ4o9kIXfc"
      }
    },
    {
      "cell_type": "code",
      "source": [
        "alpha = 0.3"
      ],
      "metadata": {
        "id": "1CW7C0wFInGb"
      },
      "execution_count": 459,
      "outputs": []
    },
    {
      "cell_type": "code",
      "source": [
        "iteration = 1000"
      ],
      "metadata": {
        "id": "8v2FaK31PXkD"
      },
      "execution_count": 460,
      "outputs": []
    },
    {
      "cell_type": "code",
      "source": [
        "use_umbral = False"
      ],
      "metadata": {
        "id": "1WLrFY6os2fz"
      },
      "execution_count": 461,
      "outputs": []
    },
    {
      "cell_type": "markdown",
      "source": [
        "5) Implemente el algoritmo de perceptron para actualizar los valores del vector de parámetros 𝑊 (puede utilizar cualquiera de las alternativas estudiadas en clase)"
      ],
      "metadata": {
        "id": "LknwiMqGJkua"
      }
    },
    {
      "cell_type": "code",
      "source": [
        "if use_umbral:\n",
        "  for iter in range(iteration):\n",
        "    for item in range(train_set.shape[0]):\n",
        "\n",
        "      tag = np.sign(np.dot(weight, np.transpose(x_train[item, :])))\n",
        "\n",
        "      if (y_train[item] == 1 and tag != y_train[item]):\n",
        "        weight += alpha * np.transpose(x_train[item, :])\n",
        "      elif (y_train[item] == -1 and tag != y_train[item]):\n",
        "        weight -= alpha * np.transpose(x_train[item, :])\n",
        "      else:\n",
        "        weight = weight"
      ],
      "metadata": {
        "id": "mWMFSFRYJj1r"
      },
      "execution_count": 462,
      "outputs": []
    },
    {
      "cell_type": "code",
      "source": [
        "if not use_umbral:\n",
        "  for iter in range(iteration):\n",
        "    for item in range(train_set.shape[0]):\n",
        "\n",
        "      y_predict = np.sign(np.dot(weight, np.transpose(x_train[item, :])))\n",
        "\n",
        "      x_transposed = np.transpose(x_train[item, :])\n",
        "\n",
        "      weight = weight - 2 * alpha * x_transposed * (y_predict - y_train[item])"
      ],
      "metadata": {
        "id": "qrQTvb1SQ1Xh"
      },
      "execution_count": 463,
      "outputs": []
    },
    {
      "cell_type": "markdown",
      "source": [
        "# Analisis del algoritmo"
      ],
      "metadata": {
        "id": "mF_9WJoQ68tw"
      }
    },
    {
      "cell_type": "markdown",
      "source": [
        "Se grafica:\n",
        "\n",
        "*   $X1_{train}$ vs $X2_{train}$\n",
        "*   $X1_{test}$ vs $X2_{test}$\n",
        "*   Plano de decisión $- \\frac{W[2] + W[0] X1_{train}}{W[1]}$"
      ],
      "metadata": {
        "id": "gwDeYxA137tg"
      }
    },
    {
      "cell_type": "code",
      "source": [
        "# Curva de decisión\n",
        "\n",
        "curve_size = np.arange(-3, 5, 3)\n",
        "curve_length = -(weight[2] + weight[0] * curve_size) / weight[1]"
      ],
      "metadata": {
        "id": "YQ5PfodoxdRf"
      },
      "execution_count": 464,
      "outputs": []
    },
    {
      "cell_type": "code",
      "source": [
        "\"\"\"\n",
        "Grafica de X1 vs X2 (Train)\n",
        "\"\"\"\n",
        "index_tag_class_1 = np.where(y_train == 1)\n",
        "index_tag_class_2 = np.where(y_train == -1)\n",
        "\n",
        "tag_class_1 = train_set[[\"X1\", \"X2\"]].iloc[index_tag_class_1]\n",
        "tag_class_2 = train_set[[\"X1\", \"X2\"]].iloc[index_tag_class_2]\n",
        "\n",
        "plt.plot(tag_class_1[\"X1\"], tag_class_1[\"X2\"], \".r\", label=\"(Train) X1\")\n",
        "plt.plot(tag_class_2[\"X1\"], tag_class_2[\"X2\"], \".b\", label=\"(Train) X2\")\n",
        "\n",
        "\n",
        "\"\"\"\n",
        "Grafico de la curva de decisión\n",
        "\"\"\"\n",
        "plt.plot(curve_size, curve_length, label = \"Curva de decisión\")\n",
        "\n",
        "plt.title(\"Analisis de X1 y X2 train\")\n",
        "plt.show()"
      ],
      "metadata": {
        "colab": {
          "base_uri": "https://localhost:8080/",
          "height": 452
        },
        "id": "lpBWQEPH3fiJ",
        "outputId": "8a870cd8-307d-4ad6-bbb5-eff4750ddd2f"
      },
      "execution_count": 465,
      "outputs": [
        {
          "output_type": "display_data",
          "data": {
            "text/plain": [
              "<Figure size 640x480 with 1 Axes>"
            ],
            "image/png": "[encoded data removed]"
          },
          "metadata": {}
        }
      ]
    },
    {
      "cell_type": "code",
      "source": [
        "\"\"\"\n",
        "Grafica de X1 vs X2 (Test)\n",
        "\"\"\"\n",
        "index_tag_class_1 = np.where(y_test == 1)\n",
        "index_tag_class_2 = np.where(y_test == -1)\n",
        "\n",
        "tag_class_1 = test_set[[\"X1\", \"X2\"]].iloc[index_tag_class_1]\n",
        "tag_class_2 = test_set[[\"X1\", \"X2\"]].iloc[index_tag_class_2]\n",
        "\n",
        "plt.plot(tag_class_1[\"X1\"], tag_class_1[\"X2\"], \"^m\", label=\"(Test) X1\")\n",
        "plt.plot(tag_class_2[\"X1\"], tag_class_2[\"X2\"], \"^g\", label=\"(Test) X2\")\n",
        "\n",
        "\n",
        "\"\"\"\n",
        "Grafico de la curva de decisión\n",
        "\"\"\"\n",
        "plt.plot(curve_size, curve_length, label = \"Curva de decisión\")\n",
        "\n",
        "plt.title(\"Analisis de X1 y X2 test\")\n",
        "plt.show()"
      ],
      "metadata": {
        "colab": {
          "base_uri": "https://localhost:8080/",
          "height": 452
        },
        "id": "8z0qPR0A3fWt",
        "outputId": "6d39512b-a916-4ffc-f7ff-4b7a5ef04bfc"
      },
      "execution_count": 466,
      "outputs": [
        {
          "output_type": "display_data",
          "data": {
            "text/plain": [
              "<Figure size 640x480 with 1 Axes>"
            ],
            "image/png": "[encoded data removed]"
          },
          "metadata": {}
        }
      ]
    },
    {
      "cell_type": "code",
      "source": [
        "# Grafico de los datos en una misma imagen\n",
        "\n",
        "\"\"\"\n",
        "Grafica de X1 vs X2 (Train)\n",
        "\"\"\"\n",
        "index_tag_class_1 = np.where(y_train == 1)\n",
        "index_tag_class_2 = np.where(y_train == -1)\n",
        "\n",
        "tag_class_1 = train_set[[\"X1\", \"X2\"]].iloc[index_tag_class_1]\n",
        "tag_class_2 = train_set[[\"X1\", \"X2\"]].iloc[index_tag_class_2]\n",
        "\n",
        "plt.plot(tag_class_1[\"X1\"], tag_class_1[\"X2\"], \".r\", label=\"(Train) X1\")\n",
        "plt.plot(tag_class_2[\"X1\"], tag_class_2[\"X2\"], \".b\", label=\"(Train) X2\")\n",
        "\n",
        "\"\"\"\n",
        "Grafica de X1 vs X2 (Test)\n",
        "\"\"\"\n",
        "index_tag_class_1 = np.where(y_test == 1)\n",
        "index_tag_class_2 = np.where(y_test == -1)\n",
        "\n",
        "tag_class_1 = test_set[[\"X1\", \"X2\"]].iloc[index_tag_class_1]\n",
        "tag_class_2 = test_set[[\"X1\", \"X2\"]].iloc[index_tag_class_2]\n",
        "\n",
        "plt.plot(tag_class_1[\"X1\"], tag_class_1[\"X2\"], \"^m\", label=\"(Test) X1\")\n",
        "plt.plot(tag_class_2[\"X1\"], tag_class_2[\"X2\"], \"^g\", label=\"(Test) X2\")\n",
        "\n",
        "\"\"\"\n",
        "Grafico de la curva de decisión\n",
        "\"\"\"\n",
        "plt.plot(curve_size, curve_length, label = \"Curva de decisión\")\n",
        "\n",
        "plt.title(\"Analisis del modelo\")\n",
        "plt.show()"
      ],
      "metadata": {
        "colab": {
          "base_uri": "https://localhost:8080/",
          "height": 452
        },
        "id": "dm7oqcGwkhVk",
        "outputId": "27adcc06-0fd3-432d-f2b9-7ba243775eec"
      },
      "execution_count": 467,
      "outputs": [
        {
          "output_type": "display_data",
          "data": {
            "text/plain": [
              "<Figure size 640x480 with 1 Axes>"
            ],
            "image/png": "[encoded data removed]"
          },
          "metadata": {}
        }
      ]
    }
  ]
}